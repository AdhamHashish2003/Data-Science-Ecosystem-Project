{
 "cells": [
  {
   "cell_type": "markdown",
   "id": "6393723a-e1fe-4150-ae2f-2424f57d92a0",
   "metadata": {},
   "source": [
    "# Data Science Tools and Ecosystem \n"
   ]
  },
  {
   "cell_type": "markdown",
   "id": "af5e83d5-f46d-4a66-ad38-7ae330ab2483",
   "metadata": {},
   "source": [
    "In this notebook, Data Science Tools and Ecosystem are summarized."
   ]
  },
  {
   "cell_type": "markdown",
   "id": "62da9831-0edf-4b15-bfc8-9871c66356b3",
   "metadata": {},
   "source": [
    "**Objectives:**"
   ]
  },
  {
   "cell_type": "markdown",
   "id": "7226023c-1268-461e-aea7-b23c1f76f562",
   "metadata": {},
   "source": [
    "- Some of the popular languages that Data Scientists use are:"
   ]
  },
  {
   "cell_type": "markdown",
   "id": "c06994d7-2a94-4774-b555-f746ad551fd2",
   "metadata": {},
   "source": [
    "1- Python"
   ]
  },
  {
   "cell_type": "markdown",
   "id": "62b96320-f603-4b03-b69c-624f4ca97e97",
   "metadata": {},
   "source": [
    "2- R"
   ]
  },
  {
   "cell_type": "markdown",
   "id": "70c33ba2-8da4-4c86-8639-daa669a3863e",
   "metadata": {},
   "source": [
    "3- SQL"
   ]
  },
  {
   "cell_type": "markdown",
   "id": "8df5a2eb-18e1-4e66-8f23-ab672c7240c7",
   "metadata": {},
   "source": [
    "- Some of the commonly used libraries used by Data Scientists include:"
   ]
  },
  {
   "cell_type": "markdown",
   "id": "acd4e50c-c6d4-410c-b97f-1d82e337351e",
   "metadata": {},
   "source": [
    "1- ggplot"
   ]
  },
  {
   "cell_type": "markdown",
   "id": "4af618cd-762d-4df9-8074-04a337ca2031",
   "metadata": {},
   "source": [
    "2- dplyr"
   ]
  },
  {
   "cell_type": "markdown",
   "id": "f2bf9612-dce1-494a-aad8-e92b1c8c9441",
   "metadata": {},
   "source": [
    "3- datasets"
   ]
  },
  {
   "cell_type": "markdown",
   "id": "2483d367-0226-45ea-90d9-c7c78a42cd13",
   "metadata": {},
   "source": [
    "|Data Science Tools|\n",
    "|---|\n",
    "|RStudio|\n",
    "|TensorFlow|\n",
    "|Apache Spark|"
   ]
  },
  {
   "cell_type": "markdown",
   "id": "2732e03a-2141-4586-b2a4-8735ea1dc766",
   "metadata": {},
   "source": [
    "### -Below are a few examples of evaluating arithmetic expressions in Python"
   ]
  },
  {
   "cell_type": "markdown",
   "id": "daac1bb0-615f-4939-950b-b2d06734b116",
   "metadata": {},
   "source": [
    "We assign values to variable by using the equal sign"
   ]
  },
  {
   "cell_type": "markdown",
   "id": "e7d2aa9a-dc83-441d-859c-fc6a0f0206a5",
   "metadata": {},
   "source": [
    "For example: x = 2 ( this example assigns the value 2 to the variable x )"
   ]
  },
  {
   "cell_type": "markdown",
   "id": "241e156f-daa9-443f-949c-05f7730c8d1a",
   "metadata": {},
   "source": [
    "We multiply using the star sign (*) "
   ]
  },
  {
   "cell_type": "markdown",
   "id": "6e0f0c77-9974-49f7-b9ce-016417c80133",
   "metadata": {},
   "source": [
    "For Example: x = 2 * 2 ( this assigns the value 2 multiplied by itsself to the variable x )"
   ]
  },
  {
   "cell_type": "markdown",
   "id": "6261bc02-236b-43c4-bdf1-539292dd907a",
   "metadata": {},
   "source": [
    "We divide by using the backslash sign (/)"
   ]
  },
  {
   "cell_type": "markdown",
   "id": "e50accca-fa3e-4bdd-9449-d6ef9933fab5",
   "metadata": {},
   "source": [
    "For example x = 4/2 ( this equation says that 4 is divided by 2 and the result is assigned to x )"
   ]
  },
  {
   "cell_type": "markdown",
   "id": "7553d348-866a-48ad-88b6-0a52c44c8fd7",
   "metadata": {},
   "source": [
    "-This a simple arithmetic expression to mutiply then add integers"
   ]
  },
  {
   "cell_type": "code",
   "execution_count": 11,
   "id": "25e06cbb-c31f-4df8-b8a9-6e0e4fee7833",
   "metadata": {},
   "outputs": [
    {
     "data": {
      "text/plain": [
       "17"
      ]
     },
     "execution_count": 11,
     "metadata": {},
     "output_type": "execute_result"
    }
   ],
   "source": [
    "(3*4)+5"
   ]
  },
  {
   "cell_type": "markdown",
   "id": "4a5f33ac-4036-4953-a4b2-16bc331c7aeb",
   "metadata": {},
   "source": [
    "-This will convert 200 minutes to hours by diving by 60"
   ]
  },
  {
   "cell_type": "code",
   "execution_count": 12,
   "id": "5b903608-92b6-4bc7-9b47-6819c120ae8f",
   "metadata": {},
   "outputs": [
    {
     "data": {
      "text/plain": [
       "3.3333333333333335"
      ]
     },
     "execution_count": 12,
     "metadata": {},
     "output_type": "execute_result"
    }
   ],
   "source": [
    "200/60"
   ]
  },
  {
   "cell_type": "markdown",
   "id": "7b9e308c-ef18-41a0-bec3-64f7c83534f1",
   "metadata": {},
   "source": [
    "## Author"
   ]
  },
  {
   "cell_type": "markdown",
   "id": "ac5d2074-cc4e-49d4-89c5-412624b25dc9",
   "metadata": {},
   "source": [
    "Adham Mohamed"
   ]
  }
 ],
 "metadata": {
  "kernelspec": {
   "display_name": "Python 3 (ipykernel)",
   "language": "python",
   "name": "python3"
  },
  "language_info": {
   "codemirror_mode": {
    "name": "ipython",
    "version": 3
   },
   "file_extension": ".py",
   "mimetype": "text/x-python",
   "name": "python",
   "nbconvert_exporter": "python",
   "pygments_lexer": "ipython3",
   "version": "3.12.4"
  }
 },
 "nbformat": 4,
 "nbformat_minor": 5
}
